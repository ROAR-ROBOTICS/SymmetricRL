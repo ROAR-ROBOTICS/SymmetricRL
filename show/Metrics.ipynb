{
 "cells": [
  {
   "cell_type": "code",
   "execution_count": null,
   "metadata": {},
   "outputs": [],
   "source": [
    "# for i in runs/*12__20*_w2_*/*/; do python -m playground.evaluate with experiment_dir=$i; done"
   ]
  },
  {
   "cell_type": "code",
   "execution_count": 86,
   "metadata": {},
   "outputs": [],
   "source": [
    "import pandas as pd\n",
    "import numpy as np\n",
    "import math\n",
    "import json\n",
    "import glob\n",
    "import csv\n",
    "import re\n",
    "import os\n",
    "\n",
    "import matplotlib.pyplot as plt\n",
    "%config InlineBackend.figure_formats = ['png']"
   ]
  },
  {
   "cell_type": "code",
   "execution_count": 111,
   "metadata": {},
   "outputs": [
    {
     "name": "stdout",
     "output_type": "stream",
     "text": [
      "[('../runs/2019_07_12__20_09_06__w2_traj/1/', 'traj'), ('../runs/2019_07_12__20_09_06__w2_traj/4/', 'traj')]\n"
     ]
    }
   ],
   "source": [
    "dirs = glob.glob(\"../runs/*12__20*_w2_*/*/\") + glob.glob(\"../runs/*00_00__w2*/*/\")\n",
    "names = [re.findall(\"w2.*_([^\\/]*)\", path)[0] for path in dirs]\n",
    "print(list(zip(dirs, names))[:2])"
   ]
  },
  {
   "cell_type": "code",
   "execution_count": 11,
   "metadata": {},
   "outputs": [],
   "source": [
    "def read_data(path):\n",
    "    with open(os.path.join(path, \"evaluate.json\"), 'r') as jfile:\n",
    "        return json.load(jfile)"
   ]
  },
  {
   "cell_type": "code",
   "execution_count": 12,
   "metadata": {},
   "outputs": [
    {
     "data": {
      "text/plain": [
       "{'torque': 16.05569839477539, 'joint_angle': 8.591248512268066}"
      ]
     },
     "execution_count": 12,
     "metadata": {},
     "output_type": "execute_result"
    }
   ],
   "source": [
    "read_data(dirs[0])"
   ]
  },
  {
   "cell_type": "code",
   "execution_count": 15,
   "metadata": {},
   "outputs": [],
   "source": [
    "def read_column(paths, column):\n",
    "    return [read_data(path)[column] for path in paths]"
   ]
  },
  {
   "cell_type": "code",
   "execution_count": 65,
   "metadata": {},
   "outputs": [
    {
     "data": {
      "text/plain": [
       "3.38163423538208"
      ]
     },
     "execution_count": 65,
     "metadata": {},
     "output_type": "execute_result"
    }
   ],
   "source": [
    "np.min(read_column(dirs, \"joint_angle\"))"
   ]
  },
  {
   "cell_type": "code",
   "execution_count": 92,
   "metadata": {},
   "outputs": [],
   "source": [
    "def compute_stats(xs, ys):\n",
    "    grouped = {}\n",
    "    for x, y in zip(xs, ys):\n",
    "        if not x in grouped:\n",
    "            grouped[x] = []\n",
    "        grouped[x].append(y)\n",
    "    keys = sorted(grouped.keys())\n",
    "    xs = np.array([k for k in keys])\n",
    "    means = np.array([np.mean(grouped[k]) for k in keys])\n",
    "    mins = np.array([np.min(grouped[k]) for k in keys])\n",
    "    maxs = np.array([np.max(grouped[k]) for k in keys])\n",
    "    return xs, means, means-mins, maxs - means\n",
    "        \n",
    "        \n",
    "def draw_barplot(dirs, names, columns, ax=None, ylabel=\"\"):\n",
    "    width = 0.2  # the width of the bars\n",
    "    capsize = 3\n",
    "    \n",
    "    colors = ['r', 'b', 'y']\n",
    "    \n",
    "    index = np.arange(len(set(names)))\n",
    "    \n",
    "    if ax is None:\n",
    "            fig = plt.figure()\n",
    "            ax = fig.add_subplot(111)\n",
    "    \n",
    "    for i, column in enumerate(columns):\n",
    "        x1 = names\n",
    "        y1 = read_column(dirs, column)\n",
    "        x, ymean, yl, yh = compute_stats(x1, y1)\n",
    "\n",
    "        ax.bar(index + i*width, ymean, width, yerr=[yl, yh], capsize=capsize, color=colors[i], label=column)\n",
    "\n",
    "    ax.set_ylabel(ylabel)\n",
    "    ax.set_xticks(index + width * (len(columns)/2 - 0.5))\n",
    "    ax.set_xticklabels(x)\n",
    "    plt.legend(loc='upper right')\n",
    "    \n",
    "    return ax"
   ]
  },
  {
   "cell_type": "code",
   "execution_count": 112,
   "metadata": {},
   "outputs": [
    {
     "data": {
      "image/png": "[encoded data removed]",
      "text/plain": [
       "<Figure size 432x288 with 1 Axes>"
      ]
     },
     "metadata": {
      "needs_background": "light"
     },
     "output_type": "display_data"
    }
   ],
   "source": [
    "ax = draw_barplot(dirs, names, [\"torque\", \"joint_angle\"], ylabel=\"Symmetric Index\")"
   ]
  },
  {
   "cell_type": "code",
   "execution_count": 104,
   "metadata": {},
   "outputs": [
    {
     "name": "stdout",
     "output_type": "stream",
     "text": [
      "[('../runs/2019_07_12__17_45_48__w3_phase/1/', 'phase'), ('../runs/2019_07_12__17_45_48__w3_phase/4/', 'phase')]\n"
     ]
    }
   ],
   "source": [
    "dirs = glob.glob(\"../runs/*12__17_4*w3*/*/\") + [\"../runs/2019_07_12__20_35_43__w3_karen_4/1\"]\n",
    "names = [re.findall(\"w3_([^\\/]*)\", path)[0] for path in dirs]\n",
    "print(list(zip(dirs, names))[:2])"
   ]
  },
  {
   "cell_type": "code",
   "execution_count": 105,
   "metadata": {},
   "outputs": [
    {
     "data": {
      "image/png": "[encoded data removed]",
      "text/plain": [
       "<Figure size 432x288 with 1 Axes>"
      ]
     },
     "metadata": {
      "needs_background": "light"
     },
     "output_type": "display_data"
    }
   ],
   "source": [
    "ax = draw_barplot(dirs, names, [\"torque\", \"joint_angle\"], ylabel=\"Symmetric Index\")"
   ]
  },
  {
   "cell_type": "code",
   "execution_count": null,
   "metadata": {},
   "outputs": [],
   "source": []
  }
 ],
 "metadata": {
  "kernelspec": {
   "display_name": "Python 3",
   "language": "python",
   "name": "python3"
  },
  "language_info": {
   "codemirror_mode": {
    "name": "ipython",
    "version": 3
   },
   "file_extension": ".py",
   "mimetype": "text/x-python",
   "name": "python",
   "nbconvert_exporter": "python",
   "pygments_lexer": "ipython3",
   "version": "3.7.3"
  }
 },
 "nbformat": 4,
 "nbformat_minor": 2
}
